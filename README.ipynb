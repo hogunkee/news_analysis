{
 "cells": [
  {
   "cell_type": "markdown",
   "metadata": {},
   "source": [
    "# Getting Started"
   ]
  },
  {
   "cell_type": "markdown",
   "metadata": {},
   "source": [
    "## Flow"
   ]
  },
  {
   "cell_type": "code",
   "execution_count": null,
   "metadata": {},
   "outputs": [],
   "source": []
  },
  {
   "cell_type": "code",
   "execution_count": null,
   "metadata": {},
   "outputs": [],
   "source": []
  },
  {
   "cell_type": "markdown",
   "metadata": {},
   "source": [
    "#### sample text"
   ]
  },
  {
   "cell_type": "code",
   "execution_count": 35,
   "metadata": {},
   "outputs": [
    {
     "data": {
      "text/plain": [
       "\"\\n\\nBroadcom (AVGO) is expected to report earnings on Aug. 24.Broadcom now trading 2% below the 256.88 buy point from a second-stage flat base that it cleared earlier.X Keep in mind that buying just before a stock reports is risky. You don't know how the stock will report and how the market will react, and you don't have enough time to build a profit cushion. You can minimize your risk by waiting to see how the company reports and how the market reacts. Another way to minimize the risk of a post-earnings sell-off is to use an options strategy.The company showed 46% earnings growth in its most recent report. Revenue rose 18%. Analysts expect earnings-per-share growth of 39% for the quarter, and 38% growth for the full year. Estimates for the full year were recently revised upward. The company has a 97 Composite Rating and holds the No. 2 rank among its peers in the Electronics-Semiconductor Fabless industry group. Nvidia (NVDA) is the top-ranked stock within the group.Note: Dates for earnings reports are subject to change. Check the company's website for any updates. RELATED:Earnings Calendar, Analyst Estimates And Stocks To WatchNew Option Strategy Limits Risk Around EarningsChip Stocks And Semiconductor Industry News\\n\\n\\n\""
      ]
     },
     "execution_count": 35,
     "metadata": {},
     "output_type": "execute_result"
    }
   ],
   "source": [
    "text=\"\"\"\n",
    "\n",
    "Broadcom (AVGO) is expected to report earnings on Aug. 24.Broadcom now trading 2% below the 256.88 buy point from a second-stage flat base that it cleared earlier.X Keep in mind that buying just before a stock reports is risky. You don't know how the stock will report and how the market will react, and you don't have enough time to build a profit cushion. You can minimize your risk by waiting to see how the company reports and how the market reacts. Another way to minimize the risk of a post-earnings sell-off is to use an options strategy.The company showed 46% earnings growth in its most recent report. Revenue rose 18%. Analysts expect earnings-per-share growth of 39% for the quarter, and 38% growth for the full year. Estimates for the full year were recently revised upward. The company has a 97 Composite Rating and holds the No. 2 rank among its peers in the Electronics-Semiconductor Fabless industry group. Nvidia (NVDA) is the top-ranked stock within the group.Note: Dates for earnings reports are subject to change. Check the company's website for any updates. RELATED:Earnings Calendar, Analyst Estimates And Stocks To WatchNew Option Strategy Limits Risk Around EarningsChip Stocks And Semiconductor Industry News\n",
    "\n",
    "\n",
    "\"\"\"\n",
    "\n",
    "text"
   ]
  },
  {
   "cell_type": "markdown",
   "metadata": {},
   "source": [
    "## Preprocessing"
   ]
  },
  {
   "cell_type": "code",
   "execution_count": 36,
   "metadata": {},
   "outputs": [],
   "source": [
    "from ThemeSeacher import Updator, clean"
   ]
  },
  {
   "cell_type": "code",
   "execution_count": 37,
   "metadata": {},
   "outputs": [
    {
     "data": {
      "text/plain": [
       "'broadcom avgo be expect report earning aug broadcom now trading buy point second stage flat base clear earlier keep mind buy just stock report be risky don know stock report market react don have enough time build profit cushion minimize risk wait see company report market react way minimize risk post earning sell be use option strategy company show earning growth most recent report revenue rise analyst expect earning share growth quarter growth full year estimate full year be recently revise upward company have composite rating hold rank peer electronic semiconductor fabless industry group nvidia nvda be top rank stock group note date earning report be subject change check company update related earning calendar analyst estimate stock watchnew option strategy limit risk earningschip stock semiconductor industry news'"
      ]
     },
     "execution_count": 37,
     "metadata": {},
     "output_type": "execute_result"
    }
   ],
   "source": [
    "text = clean(text)\n",
    "text"
   ]
  },
  {
   "cell_type": "code",
   "execution_count": null,
   "metadata": {},
   "outputs": [],
   "source": []
  },
  {
   "cell_type": "markdown",
   "metadata": {},
   "source": [
    "## Phraser"
   ]
  },
  {
   "cell_type": "code",
   "execution_count": 38,
   "metadata": {},
   "outputs": [
    {
     "name": "stdout",
     "output_type": "stream",
     "text": [
      "phraser not exists\n",
      "start building...\n",
      "train finished!  128.02335047721863  seconds\n",
      "saved!\n"
     ]
    }
   ],
   "source": [
    "from ThemeSeacher import PhraserModel, tokenizer\n",
    "phraser = PhraserModel().get_phraser"
   ]
  },
  {
   "cell_type": "code",
   "execution_count": 5,
   "metadata": {},
   "outputs": [
    {
     "data": {
      "text/plain": [
       "['broadcom_avgo',\n",
       " 'be',\n",
       " 'expect',\n",
       " 'report',\n",
       " 'earning',\n",
       " 'aug',\n",
       " 'broadcom',\n",
       " 'now',\n",
       " 'trading',\n",
       " 'buy',\n",
       " 'point',\n",
       " 'second',\n",
       " 'stage',\n",
       " 'flat_base',\n",
       " 'clear',\n",
       " 'earlier',\n",
       " 'keep_mind',\n",
       " 'buy',\n",
       " 'just',\n",
       " 'stock']"
      ]
     },
     "execution_count": 5,
     "metadata": {},
     "output_type": "execute_result"
    }
   ],
   "source": [
    "[i for i in phraser[tokenizer([text])]]\n",
    "\n",
    "# first 10\n",
    "[i for i in phraser[tokenizer([text])]][0][:20]"
   ]
  },
  {
   "cell_type": "code",
   "execution_count": null,
   "metadata": {},
   "outputs": [],
   "source": []
  },
  {
   "cell_type": "markdown",
   "metadata": {},
   "source": [
    "## Building Dictionary"
   ]
  },
  {
   "cell_type": "code",
   "execution_count": 39,
   "metadata": {},
   "outputs": [
    {
     "name": "stdout",
     "output_type": "stream",
     "text": [
      "dictionary not exists\n",
      "start building...\n",
      "MSI.csv added\n",
      "URI.csv added\n",
      "EMN.csv added\n",
      "COL.csv added\n",
      "M.csv added\n",
      "HOLX.csv added\n",
      "PRU.csv added\n",
      "HCP.csv added\n",
      "HIG.csv added\n",
      "AMGN.csv added\n",
      "TSCO.csv added\n",
      "CI.csv added\n",
      "HII.csv added\n",
      "AAL.csv added\n",
      "INTU.csv added\n",
      "WAT.csv added\n",
      "IVZ.csv added\n",
      "NEM.csv added\n",
      "LEG.csv added\n",
      "WBA.csv added\n",
      "CMG.csv added\n",
      "KMX.csv added\n",
      "AEE.csv added\n",
      "TRIP.csv added\n",
      "PCAR.csv added\n",
      "ETN.csv added\n",
      "OKE.csv added\n",
      "BSX.csv added\n",
      "FLR.csv added\n",
      "UAL.csv added\n",
      "DLR.csv added\n",
      "DVN.csv added\n",
      "BKNG.csv added\n",
      "MOS.csv added\n",
      "MDT.csv added\n",
      "SPG.csv added\n",
      "FISV.csv added\n",
      "DISCK.csv added\n",
      "DVA.csv added\n",
      "NVDA.csv added\n",
      "BA.csv added\n",
      "STT.csv added\n",
      "UTX.csv added\n",
      "BAX.csv added\n",
      "VNO.csv added\n",
      "CRM.csv added\n",
      "AON.csv added\n",
      "EW.csv added\n",
      "LNC.csv added\n",
      "MDLZ.csv added\n",
      "FE.csv added\n",
      "GILD.csv added\n",
      "ARE.csv added\n",
      "VMC.csv added\n",
      "CCI.csv added\n",
      "AMZN.csv added\n",
      "VIAB.csv added\n",
      "JEF.csv added\n",
      "AIZ.csv added\n",
      "ZBH.csv added\n",
      "AMD.csv added\n",
      "JBHT.csv added\n",
      "ZTS.csv added\n",
      "CBRE.csv added\n",
      "AAPL.csv added\n",
      "HBI.csv added\n",
      "AET.csv added\n",
      "ABMD.csv added\n",
      "LEN.csv added\n",
      "BDX.csv added\n",
      "FOX.csv added\n",
      "DIS.csv added\n",
      "SLG.csv added\n",
      "TMO.csv added\n",
      "MAT.csv added\n",
      "ANDV.csv added\n",
      "IDXX.csv added\n",
      "XLNX.csv added\n",
      "TDG.csv added\n",
      "NTAP.csv added\n",
      "PGR.csv added\n",
      "ORCL.csv added\n",
      "RHI.csv added\n",
      "FBHS.csv added\n",
      "SNPS.csv added\n",
      "HCA.csv added\n",
      "FLS.csv added\n",
      "SJM.csv added\n",
      "BBY.csv added\n",
      "LNT.csv added\n",
      "AVY.csv added\n",
      "AES.csv added\n",
      "NFLX.csv added\n",
      "UNP.csv added\n",
      "BAC.csv added\n",
      "EQIX.csv added\n",
      "CAG.csv added\n",
      "FCX.csv added\n",
      "BHGE.csv added\n",
      "HP.csv added\n",
      "UA.csv added\n",
      "CNP.csv added\n",
      "MGM.csv added\n",
      "KHC.csv added\n",
      "NEE.csv added\n",
      "WYNN.csv added\n",
      "EXC.csv added\n",
      "CMS.csv added\n",
      "KIM.csv added\n",
      "GGP.csv added\n",
      "PH.csv added\n",
      "AIV.csv added\n",
      "CERN.csv added\n",
      "BBT.csv added\n",
      "PCG.csv added\n",
      "WM.csv added\n",
      "GPS.csv added\n",
      "HAL.csv added\n",
      "STZ.csv added\n",
      "NFX.csv added\n",
      "DXC.csv added\n",
      "MLM.csv added\n",
      "TXT.csv added\n",
      "BIIB.csv added\n",
      "SYY.csv added\n",
      "PWR.csv added\n",
      "APH.csv added\n",
      "PNW.csv added\n",
      "CF.csv added\n",
      "TPR.csv added\n",
      "ATVI.csv added\n",
      "RSG.csv added\n",
      "C.csv added\n",
      "MRO.csv added\n",
      "TAP.csv added\n",
      "VTR.csv added\n",
      "GOOG.csv added\n",
      "CCL.csv added\n",
      "NWL.csv added\n",
      "LUV.csv added\n",
      "BLL.csv added\n",
      "ITW.csv added\n",
      "STX.csv added\n",
      "CMI.csv added\n",
      "INFO.csv added\n",
      "IR.csv added\n",
      "CPRT.csv added\n",
      "DISH.csv added\n",
      "ETFC.csv added\n",
      "TJX.csv added\n",
      "LKQ.csv added\n",
      "ESS.csv added\n",
      "ILMN.csv added\n",
      "YUM.csv added\n",
      "DWDP.csv added\n",
      "WDC.csv added\n",
      "LB.csv added\n",
      "KEY.csv added\n",
      "LLL.csv added\n",
      "NWS.csv added\n",
      "CSCO.csv added\n",
      "JCI.csv added\n",
      "SBUX.csv added\n",
      "PYPL.csv added\n",
      "WEC.csv added\n",
      "PRGO.csv added\n",
      "FTV.csv added\n",
      "NOV.csv added\n",
      "RHT.csv added\n",
      "CHRW.csv added\n",
      "ANTM.csv added\n",
      "WHR.csv added\n",
      "CTXS.csv added\n",
      "NOC.csv added\n",
      "ROP.csv added\n",
      "RCL.csv added\n",
      "VRSK.csv added\n",
      "COO.csv added\n",
      "FMC.csv added\n",
      "BMY.csv added\n",
      "D.csv added\n",
      "NWSA.csv added\n",
      "TROW.csv added\n",
      "NKTR.csv added\n",
      "ABC.csv added\n",
      "PVH.csv added\n",
      "XYL.csv added\n",
      "IQV.csv added\n",
      "HON.csv added\n",
      "OXY.csv added\n",
      "IT.csv added\n",
      "INCY.csv added\n",
      "AME.csv added\n",
      "SWK.csv added\n",
      "ISRG.csv added\n",
      "EA.csv added\n",
      "PKG.csv added\n",
      "ALGN.csv added\n",
      "TMK.csv added\n",
      "HRS.csv added\n",
      "HAS.csv added\n",
      "LRCX.csv added\n",
      "PXD.csv added\n",
      "MYL.csv added\n",
      "MMC.csv added\n",
      "XRX.csv added\n",
      "KMI.csv added\n",
      "EXPE.csv added\n",
      "PBCT.csv added\n",
      "DRI.csv added\n",
      "CTSH.csv added\n",
      "SPGI.csv added\n",
      "FLT.csv added\n",
      "APTV.csv added\n",
      "SCHW.csv added\n",
      "CVX.csv added\n",
      "WU.csv added\n",
      "MCO.csv added\n",
      "MCD.csv added\n",
      "ECL.csv added\n",
      "NRG.csv added\n",
      "EFX.csv added\n",
      "MSFT.csv added\n",
      "UNH.csv added\n",
      "WFC.csv added\n",
      "GPN.csv added\n",
      "RL.csv added\n",
      "SCG.csv added\n",
      "MNST.csv added\n",
      "MPC.csv added\n",
      "CPB.csv added\n",
      "MKC.csv added\n",
      "BR.csv added\n",
      "MA.csv added\n",
      "T.csv added\n",
      "EXPD.csv added\n",
      "MSCI.csv added\n",
      "TIF.csv added\n",
      "EQR.csv added\n",
      "TEL.csv added\n",
      "AOS.csv added\n",
      "FLIR.csv added\n",
      "ABBV.csv added\n",
      "JPM.csv added\n",
      "SBAC.csv added\n",
      "HD.csv added\n",
      "FFIV.csv added\n",
      "EL.csv added\n",
      "GE.csv added\n",
      "NBL.csv added\n",
      "AFL.csv added\n",
      "V.csv added\n",
      "PG.csv added\n",
      "GD.csv added\n",
      "MO.csv added\n",
      "QRVO.csv added\n",
      "KSS.csv added\n",
      "AVB.csv added\n",
      "PEP.csv added\n",
      "K.csv added\n",
      "BF.B.csv added\n",
      "AMT.csv added\n",
      "AEP.csv added\n",
      "MHK.csv added\n",
      "ED.csv added\n",
      "COF.csv added\n",
      "F.csv added\n",
      "CLX.csv added\n",
      "AKAM.csv added\n",
      "DLTR.csv added\n",
      "PFE.csv added\n",
      "JWN.csv added\n",
      "HSIC.csv added\n",
      "XEC.csv added\n",
      "WMT.csv added\n",
      "TGT.csv added\n",
      "PLD.csv added\n",
      "CTAS.csv added\n",
      "ROST.csv added\n",
      "LMT.csv added\n",
      "SYF.csv added\n",
      "ORLY.csv added\n",
      "GOOGL.csv added\n",
      "PSA.csv added\n",
      "DOV.csv added\n",
      "ADM.csv added\n",
      "UNM.csv added\n",
      "AJG.csv added\n",
      "HPE.csv added\n",
      "GPC.csv added\n",
      "CNC.csv added\n",
      "UHS.csv added\n",
      "ANSS.csv added\n",
      "CSX.csv added\n",
      "WRK.csv added\n",
      "CBS.csv added\n",
      "VRSN.csv added\n",
      "FDX.csv added\n",
      "HRB.csv added\n",
      "BRK.B.csv added\n",
      "AVGO.csv added\n",
      "AAP.csv added\n",
      "SIVB.csv added\n",
      "MAA.csv added\n",
      "KMB.csv added\n",
      "COST.csv added\n",
      "AMP.csv added\n",
      "L.csv added\n",
      "RJF.csv added\n",
      "DE.csv added\n",
      "CL.csv added\n",
      "ADSK.csv added\n",
      "PNC.csv added\n",
      "JNJ.csv added\n",
      "WELL.csv added\n",
      "KLAC.csv added\n",
      "EVRG.csv added\n",
      "CHTR.csv added\n",
      "FITB.csv added\n",
      "GS.csv added\n",
      "HES.csv added\n",
      "O.csv added\n",
      "CELG.csv added\n",
      "EMR.csv added\n",
      "DISCA.csv added\n",
      "UAA.csv added\n",
      "PPL.csv added\n",
      "COG.csv added\n",
      "VFC.csv added\n",
      "BEN.csv added\n",
      "FTI.csv added\n",
      "NDAQ.csv added\n",
      "DUK.csv added\n",
      "AGN.csv added\n",
      "RF.csv added\n",
      "ALK.csv added\n",
      "IPGP.csv added\n",
      "KORS.csv added\n",
      "MCHP.csv added\n",
      "HUM.csv added\n",
      "TSN.csv added\n",
      "FOXA.csv added\n",
      "COP.csv added\n",
      "IBM.csv added\n",
      "ES.csv added\n",
      "SLB.csv added\n",
      "FL.csv added\n",
      "IRM.csv added\n",
      "MET.csv added\n",
      "EOG.csv added\n",
      "CAT.csv added\n",
      "LLY.csv added\n",
      "TTWO.csv added\n",
      "KR.csv added\n",
      "GWW.csv added\n",
      "NKE.csv added\n",
      "VAR.csv added\n",
      "MU.csv added\n",
      "PHM.csv added\n",
      "USB.csv added\n",
      "RTN.csv added\n",
      "SEE.csv added\n",
      "INTC.csv added\n",
      "QCOM.csv added\n",
      "AMAT.csv added\n",
      "A.csv added\n",
      "TSS.csv added\n",
      "CME.csv added\n",
      "VZ.csv added\n",
      "SRCL.csv added\n",
      "SHW.csv added\n",
      "HFC.csv added\n",
      "MAS.csv added\n",
      "HSY.csv added\n",
      "FRT.csv added\n",
      "LH.csv added\n",
      "MMM.csv added\n",
      "ICE.csv added\n",
      "RMD.csv added\n",
      "BLK.csv added\n",
      "TRV.csv added\n",
      "EXR.csv added\n",
      "AXP.csv added\n",
      "SO.csv added\n",
      "ALXN.csv added\n",
      "UDR.csv added\n",
      "MRK.csv added\n",
      "VRTX.csv added\n",
      "HST.csv added\n",
      "COTY.csv added\n",
      "DFS.csv added\n",
      "PAYX.csv added\n",
      "AWK.csv added\n",
      "AZO.csv added\n",
      "ADP.csv added\n",
      "XOM.csv added\n",
      "NLSN.csv added\n",
      "WLTW.csv added\n",
      "AIG.csv added\n",
      "XEL.csv added\n",
      "PKI.csv added\n",
      "GM.csv added\n",
      "IFF.csv added\n",
      "ADI.csv added\n",
      "DHR.csv added\n",
      "HBAN.csv added\n",
      "PM.csv added\n",
      "SNA.csv added\n",
      "GLW.csv added\n",
      "PX.csv added\n",
      "EIX.csv added\n",
      "LOW.csv added\n",
      "CTL.csv added\n",
      "ADS.csv added\n",
      "IPG.csv added\n",
      "TXN.csv added\n",
      "CB.csv added\n",
      "XL.csv added\n",
      "PFG.csv added\n",
      "XRAY.csv added\n",
      "GIS.csv added\n",
      "NCLH.csv added\n",
      "JNPR.csv added\n",
      "DRE.csv added\n",
      "CVS.csv added\n",
      "IP.csv added\n",
      "NUE.csv added\n",
      "CDNS.csv added\n",
      "PNR.csv added\n",
      "CHD.csv added\n",
      "KSU.csv added\n",
      "ARNC.csv added\n",
      "SYMC.csv added\n",
      "GT.csv added\n",
      "CA.csv added\n",
      "MTB.csv added\n",
      "SRE.csv added\n",
      "APA.csv added\n",
      "LYB.csv added\n",
      "SYK.csv added\n",
      "HPQ.csv added\n",
      "ROK.csv added\n",
      "NTRS.csv added\n",
      "ESRX.csv added\n",
      "HLT.csv added\n",
      "MAC.csv added\n",
      "CAH.csv added\n",
      "PPG.csv added\n",
      "CMA.csv added\n",
      "ADBE.csv added\n",
      "PEG.csv added\n",
      "ABT.csv added\n",
      "EQT.csv added\n",
      "TWTR.csv added\n",
      "WY.csv added\n",
      "SWKS.csv added\n",
      "MS.csv added\n",
      "ULTA.csv added\n",
      "UPS.csv added\n",
      "STI.csv added\n",
      "BXP.csv added\n",
      "JEC.csv added\n",
      "ALL.csv added\n",
      "BWA.csv added\n",
      "ETR.csv added\n",
      "RE.csv added\n",
      "DG.csv added\n",
      "ALLE.csv added\n",
      "BHF.csv added\n",
      "HOG.csv added\n",
      "EBAY.csv added\n",
      "MCK.csv added\n",
      "NI.csv added\n",
      "PSX.csv added\n",
      "DHI.csv added\n",
      "ACN.csv added\n",
      "DAL.csv added\n",
      "WMB.csv added\n",
      "CFG.csv added\n",
      "VLO.csv added\n",
      "AMG.csv added\n",
      "APC.csv added\n",
      "DGX.csv added\n",
      "ZION.csv added\n",
      "HRL.csv added\n",
      "FB.csv added\n",
      "ALB.csv added\n",
      "REG.csv added\n",
      "FAST.csv added\n",
      "MAR.csv added\n",
      "CMCSA.csv added\n",
      "CINF.csv added\n",
      "CBOE.csv added\n",
      "NSC.csv added\n",
      "CXO.csv added\n",
      "BK.csv added\n",
      "EVHC.csv added\n",
      "KO.csv added\n",
      "REGN.csv added\n",
      "DTE.csv added\n",
      "FIS.csv added\n",
      "APD.csv added\n",
      "MTD.csv added\n",
      "OMC.csv added\n",
      "GRMN.csv added\n",
      "done\n"
     ]
    }
   ],
   "source": [
    "from ThemeSeacher import KeywordDict\n",
    "dic = KeywordDict(phraser=phraser).get_dict"
   ]
  },
  {
   "cell_type": "code",
   "execution_count": 7,
   "metadata": {},
   "outputs": [
    {
     "name": "stdout",
     "output_type": "stream",
     "text": [
      "deep_learn\n",
      "7413\n",
      "total_words: 234356\n"
     ]
    }
   ],
   "source": [
    "print(dic[7413])\n",
    "print(dic.token2id['deep_learn'])\n",
    "print('total_words:', len(dic))"
   ]
  },
  {
   "cell_type": "code",
   "execution_count": null,
   "metadata": {},
   "outputs": [],
   "source": []
  },
  {
   "cell_type": "markdown",
   "metadata": {},
   "source": [
    "## Building Tfidf Model"
   ]
  },
  {
   "cell_type": "code",
   "execution_count": 40,
   "metadata": {},
   "outputs": [
    {
     "name": "stdout",
     "output_type": "stream",
     "text": [
      "model not exists\n",
      "start building...\n",
      "model_vpc.bin  finished  171.65365052223206  seconds\n"
     ]
    }
   ],
   "source": [
    "from ThemeSeacher import Model\n",
    "tfidf = Model(dic, name='vpc', smartirs='Lpc', phraser=phraser).get_model"
   ]
  },
  {
   "cell_type": "code",
   "execution_count": null,
   "metadata": {},
   "outputs": [],
   "source": []
  },
  {
   "cell_type": "code",
   "execution_count": null,
   "metadata": {},
   "outputs": [],
   "source": []
  },
  {
   "cell_type": "markdown",
   "metadata": {},
   "source": [
    "### Custom Weighting"
   ]
  },
  {
   "cell_type": "code",
   "execution_count": 9,
   "metadata": {},
   "outputs": [],
   "source": [
    "def wlocal(tf):\n",
    "    return (1 + np.log(tf) / np.log(2)) / (1 + np.log(tf.mean(axis=0) / np.log(2)))\n",
    "    \n",
    "def wglobal(docfreq, totaldocs):\n",
    "    return np.log((0.6 * totaldocs - docfreq) / docfreq) / np.log(2)"
   ]
  },
  {
   "cell_type": "code",
   "execution_count": 41,
   "metadata": {},
   "outputs": [
    {
     "name": "stdout",
     "output_type": "stream",
     "text": [
      "Model vpc loaded\n"
     ]
    }
   ],
   "source": [
    "new_tfidf = Model(dic=dic, name='0.3').get_model"
   ]
  },
  {
   "cell_type": "markdown",
   "metadata": {},
   "source": [
    "### Pretrained Tfidf"
   ]
  },
  {
   "cell_type": "markdown",
   "metadata": {},
   "source": [
    "tf 와 idf 의 가중치를 다양한 방법을 이용하여 계산 할 수 있다.   \n",
    "다음은 자주 사용되는 가중치들이다.\n",
    "\n",
    "#### Term frequency weighing:\n",
    "* ####  n - natural    $ \\qquad \\quad \\;\\; tf_{t,d} $\n",
    "\n",
    "* #### l - logarithm   $ \\qquad \\quad 1+log(tf_{t,d}) $ \n",
    "\n",
    "* #### a - augmented   $ \\qquad 0.5+\\frac{0.5 \\times tf_{t,d}}{max(tf_{t,f})} $ \n",
    "\n",
    "* #### b - boolean     $ \\quad \\qquad \\begin{cases} 1, & \\text{if $tf_{t,d}$ > 0} \\\\ 0, & \\text{otherwise} \\end{cases} $ \n",
    "\n",
    "* #### v - log average $ \\qquad \\frac{1+log(tf_{t,d})}{1+log(ave_{t\\in d}(tf_{t,d}))} $ \n",
    "\n",
    "#### Document frequency weighting:\n",
    "* #### n - none      $ \\qquad \\quad1 $\n",
    "* #### t - idf       $ \\qquad \\qquad log\\frac{N}{df_t} $\n",
    "* #### p - prob idf  $ \\qquad max(0, log \\frac{N-df_t}{df_t})$\n",
    "\n",
    "#### Document normalization:\n",
    "* #### n - none    $ \\quad \\qquad 1$\n",
    "* #### c - cosine  $ \\qquad \\frac{1}{\\sqrt{w^2_1+w^2_2+...+w^2_M}} $\n",
    "\n",
    "https://en.wikipedia.org/wiki/SMART_Information_Retrieval_System"
   ]
  },
  {
   "cell_type": "code",
   "execution_count": 42,
   "metadata": {},
   "outputs": [
    {
     "name": "stdout",
     "output_type": "stream",
     "text": [
      "Model vpc loaded\n"
     ]
    }
   ],
   "source": [
    "custom_tfidf = Model(dic, name='vpc').get_model"
   ]
  },
  {
   "cell_type": "code",
   "execution_count": null,
   "metadata": {},
   "outputs": [],
   "source": []
  },
  {
   "cell_type": "markdown",
   "metadata": {},
   "source": [
    "## Extractor"
   ]
  },
  {
   "cell_type": "code",
   "execution_count": 44,
   "metadata": {},
   "outputs": [
    {
     "data": {
      "text/plain": [
       "[('nvidia', 476),\n",
       " ('esp', 123),\n",
       " ('ai', 118),\n",
       " ('self_drive', 112),\n",
       " ('intel', 110),\n",
       " ('semiconductor', 103),\n",
       " ('relative_strength', 95),\n",
       " ('monolithic_power', 95),\n",
       " ('chip', 93),\n",
       " ('gaap', 92)]"
      ]
     },
     "execution_count": 44,
     "metadata": {},
     "output_type": "execute_result"
    }
   ],
   "source": [
    "from ThemeSeacher import Model, Extractor\n",
    "Extractor(custom_tfidf, dic, phraser).extract(\"NVDA\", topn1=10, topn2=10)"
   ]
  },
  {
   "cell_type": "code",
   "execution_count": null,
   "metadata": {},
   "outputs": [],
   "source": [
    "new_tfidf = Model(dic=dic, name='vpn').get_model\n",
    "Extractor(new_tfidf, dic, phraser).extract(\"NVDA\", topn1=10, topn2=10)"
   ]
  },
  {
   "cell_type": "code",
   "execution_count": 43,
   "metadata": {},
   "outputs": [
    {
     "name": "stdout",
     "output_type": "stream",
     "text": [
      "model not exists\n",
      "start building...\n"
     ]
    },
    {
     "ename": "KeyboardInterrupt",
     "evalue": "",
     "output_type": "error",
     "traceback": [
      "\u001b[0;31m---------------------------------------------------------------------------\u001b[0m",
      "\u001b[0;31mKeyboardInterrupt\u001b[0m                         Traceback (most recent call last)",
      "\u001b[0;32m<ipython-input-43-0ae954289976>\u001b[0m in \u001b[0;36m<module>\u001b[0;34m()\u001b[0m\n\u001b[0;32m----> 1\u001b[0;31m \u001b[0mcustom_tfidf\u001b[0m \u001b[0;34m=\u001b[0m \u001b[0mModel\u001b[0m\u001b[0;34m(\u001b[0m\u001b[0mdic\u001b[0m\u001b[0;34m=\u001b[0m\u001b[0mdic\u001b[0m\u001b[0;34m,\u001b[0m \u001b[0mname\u001b[0m\u001b[0;34m=\u001b[0m\u001b[0;34m'0.3'\u001b[0m\u001b[0;34m,\u001b[0m \u001b[0mwlocal\u001b[0m\u001b[0;34m=\u001b[0m\u001b[0mwlocal\u001b[0m\u001b[0;34m,\u001b[0m \u001b[0mwglobal\u001b[0m\u001b[0;34m=\u001b[0m\u001b[0mwglobal\u001b[0m\u001b[0;34m)\u001b[0m\u001b[0;34m.\u001b[0m\u001b[0mget_model\u001b[0m\u001b[0;34m\u001b[0m\u001b[0m\n\u001b[0m\u001b[1;32m      2\u001b[0m \u001b[0mExtractor\u001b[0m\u001b[0;34m(\u001b[0m\u001b[0mcustom_tfidf\u001b[0m\u001b[0;34m,\u001b[0m \u001b[0mdic\u001b[0m\u001b[0;34m,\u001b[0m \u001b[0mphraser\u001b[0m\u001b[0;34m)\u001b[0m\u001b[0;34m.\u001b[0m\u001b[0mextract\u001b[0m\u001b[0;34m(\u001b[0m\u001b[0;34m\"NVDA\"\u001b[0m\u001b[0;34m,\u001b[0m \u001b[0mtopn1\u001b[0m\u001b[0;34m=\u001b[0m\u001b[0;36m10\u001b[0m\u001b[0;34m,\u001b[0m \u001b[0mtopn2\u001b[0m\u001b[0;34m=\u001b[0m\u001b[0;36m10\u001b[0m\u001b[0;34m)\u001b[0m\u001b[0;34m\u001b[0m\u001b[0m\n",
      "\u001b[0;32m~/Desktop/code/ThemeSeacher.py\u001b[0m in \u001b[0;36m__init__\u001b[0;34m(self, dic, name, wlocal, wglobal, smartirs, phraser)\u001b[0m\n\u001b[1;32m    153\u001b[0m             \u001b[0mprint\u001b[0m\u001b[0;34m(\u001b[0m\u001b[0;34m\"model not exists\"\u001b[0m\u001b[0;34m)\u001b[0m\u001b[0;34m\u001b[0m\u001b[0m\n\u001b[1;32m    154\u001b[0m             \u001b[0mprint\u001b[0m\u001b[0;34m(\u001b[0m\u001b[0;34m\"start building...\"\u001b[0m\u001b[0;34m)\u001b[0m\u001b[0;34m\u001b[0m\u001b[0m\n\u001b[0;32m--> 155\u001b[0;31m             \u001b[0mself\u001b[0m\u001b[0;34m.\u001b[0m\u001b[0mbuild_model\u001b[0m\u001b[0;34m(\u001b[0m\u001b[0;34m)\u001b[0m\u001b[0;34m\u001b[0m\u001b[0m\n\u001b[0m\u001b[1;32m    156\u001b[0m             \u001b[0mself\u001b[0m\u001b[0;34m.\u001b[0m\u001b[0msave\u001b[0m\u001b[0;34m(\u001b[0m\u001b[0;34m)\u001b[0m\u001b[0;34m\u001b[0m\u001b[0m\n\u001b[1;32m    157\u001b[0m \u001b[0;34m\u001b[0m\u001b[0m\n",
      "\u001b[0;32m~/Desktop/code/ThemeSeacher.py\u001b[0m in \u001b[0;36mbuild_model\u001b[0;34m(self)\u001b[0m\n\u001b[1;32m    163\u001b[0m             \u001b[0mdf\u001b[0m \u001b[0;34m=\u001b[0m \u001b[0mpd\u001b[0m\u001b[0;34m.\u001b[0m\u001b[0mread_csv\u001b[0m\u001b[0;34m(\u001b[0m\u001b[0mdir_cleaned_news\u001b[0m \u001b[0;34m+\u001b[0m \u001b[0mticker\u001b[0m\u001b[0;34m,\u001b[0m \u001b[0mindex_col\u001b[0m\u001b[0;34m=\u001b[0m\u001b[0;36m0\u001b[0m\u001b[0;34m)\u001b[0m\u001b[0;34m\u001b[0m\u001b[0m\n\u001b[1;32m    164\u001b[0m             \u001b[0;32mfor\u001b[0m \u001b[0mtokenized_doc\u001b[0m \u001b[0;32min\u001b[0m \u001b[0mtokenizer\u001b[0m\u001b[0;34m(\u001b[0m\u001b[0mdf\u001b[0m\u001b[0;34m[\u001b[0m\u001b[0;34m'content'\u001b[0m\u001b[0;34m]\u001b[0m\u001b[0;34m,\u001b[0m \u001b[0mself\u001b[0m\u001b[0;34m.\u001b[0m\u001b[0mphraser\u001b[0m\u001b[0;34m)\u001b[0m\u001b[0;34m:\u001b[0m\u001b[0;34m\u001b[0m\u001b[0m\n\u001b[0;32m--> 165\u001b[0;31m                 \u001b[0mcorpus\u001b[0m \u001b[0;34m+=\u001b[0m \u001b[0;34m[\u001b[0m\u001b[0mself\u001b[0m\u001b[0;34m.\u001b[0m\u001b[0mdic\u001b[0m\u001b[0;34m.\u001b[0m\u001b[0mdoc2bow\u001b[0m\u001b[0;34m(\u001b[0m\u001b[0mtokenized_doc\u001b[0m\u001b[0;34m)\u001b[0m\u001b[0;34m]\u001b[0m\u001b[0;34m\u001b[0m\u001b[0m\n\u001b[0m\u001b[1;32m    166\u001b[0m \u001b[0;34m\u001b[0m\u001b[0m\n\u001b[1;32m    167\u001b[0m         \u001b[0;32mif\u001b[0m \u001b[0mself\u001b[0m\u001b[0;34m.\u001b[0m\u001b[0mwlocal\u001b[0m \u001b[0;32mand\u001b[0m \u001b[0mself\u001b[0m\u001b[0;34m.\u001b[0m\u001b[0mwglobal\u001b[0m\u001b[0;34m:\u001b[0m\u001b[0;34m\u001b[0m\u001b[0m\n",
      "\u001b[0;32m~/anaconda3/lib/python3.6/site-packages/gensim/corpora/dictionary.py\u001b[0m in \u001b[0;36mdoc2bow\u001b[0;34m(self, document, allow_update, return_missing)\u001b[0m\n\u001b[1;32m    238\u001b[0m         \u001b[0;31m# Construct (word, frequency) mapping.\u001b[0m\u001b[0;34m\u001b[0m\u001b[0;34m\u001b[0m\u001b[0m\n\u001b[1;32m    239\u001b[0m         \u001b[0mcounter\u001b[0m \u001b[0;34m=\u001b[0m \u001b[0mdefaultdict\u001b[0m\u001b[0;34m(\u001b[0m\u001b[0mint\u001b[0m\u001b[0;34m)\u001b[0m\u001b[0;34m\u001b[0m\u001b[0m\n\u001b[0;32m--> 240\u001b[0;31m         \u001b[0;32mfor\u001b[0m \u001b[0mw\u001b[0m \u001b[0;32min\u001b[0m \u001b[0mdocument\u001b[0m\u001b[0;34m:\u001b[0m\u001b[0;34m\u001b[0m\u001b[0m\n\u001b[0m\u001b[1;32m    241\u001b[0m             \u001b[0mcounter\u001b[0m\u001b[0;34m[\u001b[0m\u001b[0mw\u001b[0m \u001b[0;32mif\u001b[0m \u001b[0misinstance\u001b[0m\u001b[0;34m(\u001b[0m\u001b[0mw\u001b[0m\u001b[0;34m,\u001b[0m \u001b[0municode\u001b[0m\u001b[0;34m)\u001b[0m \u001b[0;32melse\u001b[0m \u001b[0municode\u001b[0m\u001b[0;34m(\u001b[0m\u001b[0mw\u001b[0m\u001b[0;34m,\u001b[0m \u001b[0;34m'utf-8'\u001b[0m\u001b[0;34m)\u001b[0m\u001b[0;34m]\u001b[0m \u001b[0;34m+=\u001b[0m \u001b[0;36m1\u001b[0m\u001b[0;34m\u001b[0m\u001b[0m\n\u001b[1;32m    242\u001b[0m \u001b[0;34m\u001b[0m\u001b[0m\n",
      "\u001b[0;31mKeyboardInterrupt\u001b[0m: "
     ]
    }
   ],
   "source": [
    "custom_tfidf = Model(dic=dic, name='0.3', wlocal=wlocal, wglobal=wglobal).get_model\n",
    "Extractor(custom_tfidf, dic, phraser).extract(\"NVDA\", topn1=10, topn2=10)"
   ]
  },
  {
   "cell_type": "markdown",
   "metadata": {},
   "source": [
    "## Embedding"
   ]
  },
  {
   "cell_type": "code",
   "execution_count": null,
   "metadata": {},
   "outputs": [],
   "source": [
    "from ThemeSeacher import EmbeddingModel\n",
    "\n",
    "embedding = EmbeddingModel().get_embedding"
   ]
  },
  {
   "cell_type": "code",
   "execution_count": null,
   "metadata": {},
   "outputs": [],
   "source": [
    "print(dic[7413])\n",
    "\n",
    "dic.token2id['deep_learn']"
   ]
  },
  {
   "cell_type": "code",
   "execution_count": null,
   "metadata": {},
   "outputs": [],
   "source": [
    "# deep_learning 은 존재하지 않는다!\n",
    "dic.token2id['deep_learning']"
   ]
  },
  {
   "cell_type": "code",
   "execution_count": null,
   "metadata": {},
   "outputs": [],
   "source": [
    "embedding.wv.most_similar('bitcoin', topn=20)"
   ]
  },
  {
   "cell_type": "code",
   "execution_count": null,
   "metadata": {},
   "outputs": [],
   "source": [
    "embedding.wv.similarity(\"deep_learning\", \"neural_network\")"
   ]
  },
  {
   "cell_type": "code",
   "execution_count": null,
   "metadata": {},
   "outputs": [],
   "source": [
    "embedding.wv.similarity(\"bitcoin\", \"blockchain\")"
   ]
  },
  {
   "cell_type": "code",
   "execution_count": null,
   "metadata": {},
   "outputs": [],
   "source": [
    "embedding.wv.similarity(\"self_drive\", \"deep_learn\")"
   ]
  },
  {
   "cell_type": "markdown",
   "metadata": {},
   "source": [
    "## Grouping"
   ]
  },
  {
   "cell_type": "markdown",
   "metadata": {},
   "source": [
    "### K-Means"
   ]
  },
  {
   "cell_type": "code",
   "execution_count": null,
   "metadata": {},
   "outputs": [],
   "source": [
    "from ThemeSeacher import Clustering\n",
    "\n",
    "cluster = Clustering()"
   ]
  },
  {
   "cell_type": "code",
   "execution_count": null,
   "metadata": {},
   "outputs": [],
   "source": [
    "embedding.wv.similarity(\"self_drive\", \"deep_learn\")"
   ]
  },
  {
   "cell_type": "code",
   "execution_count": null,
   "metadata": {},
   "outputs": [],
   "source": [
    "print(cluster.get_cluster('deep_learning'))\n",
    "print(cluster.get_cluster('self_drive'))"
   ]
  },
  {
   "cell_type": "code",
   "execution_count": null,
   "metadata": {},
   "outputs": [],
   "source": [
    "print(cluster.get_cluster('etherium'))\n",
    "print(cluster.get_cluster('bitcoin'))\n",
    "print(cluster.get_cluster('cryptocurrency'))"
   ]
  },
  {
   "cell_type": "code",
   "execution_count": null,
   "metadata": {},
   "outputs": [],
   "source": [
    "print(cluster.get_cluster('hamburger'))"
   ]
  },
  {
   "cell_type": "code",
   "execution_count": null,
   "metadata": {},
   "outputs": [],
   "source": [
    "cluster.get_keyword(1122)"
   ]
  },
  {
   "cell_type": "markdown",
   "metadata": {},
   "source": [
    "#### Comparison"
   ]
  },
  {
   "cell_type": "code",
   "execution_count": null,
   "metadata": {},
   "outputs": [],
   "source": [
    "print(cluster.get_keyword(1687, topn=20))      # deep_learning\n",
    "print(\"-\"*150)\n",
    "print(cluster.get_keyword(491, topn=20))       # self_drive"
   ]
  },
  {
   "cell_type": "code",
   "execution_count": null,
   "metadata": {},
   "outputs": [],
   "source": [
    "print(embedding.wv.similarity(\"self_drive\", \"deep_learning\"))\n",
    "print(embedding.wv.similarity(\"tensorflow_ai\", \"deep_learning\"))"
   ]
  },
  {
   "cell_type": "code",
   "execution_count": null,
   "metadata": {},
   "outputs": [],
   "source": [
    "print(cluster.get_cluster('freeze'))\n",
    "embedding.wv.most_similar('freeze')"
   ]
  },
  {
   "cell_type": "code",
   "execution_count": null,
   "metadata": {},
   "outputs": [],
   "source": [
    "cluster.get_keyword(753)"
   ]
  },
  {
   "cell_type": "code",
   "execution_count": null,
   "metadata": {},
   "outputs": [],
   "source": [
    "embedding.wv.similarity('freeze', 'temporarily_disabled')"
   ]
  },
  {
   "cell_type": "code",
   "execution_count": null,
   "metadata": {},
   "outputs": [],
   "source": [
    "embedding.wv.most_similar('freeze', topn=50)"
   ]
  },
  {
   "cell_type": "code",
   "execution_count": null,
   "metadata": {},
   "outputs": [],
   "source": []
  },
  {
   "cell_type": "code",
   "execution_count": null,
   "metadata": {},
   "outputs": [],
   "source": []
  },
  {
   "cell_type": "markdown",
   "metadata": {},
   "source": [
    "## Keyword2Ticker"
   ]
  },
  {
   "cell_type": "code",
   "execution_count": null,
   "metadata": {},
   "outputs": [],
   "source": [
    "from ThemeSeacher import Tagging\n",
    "a = Tagging()"
   ]
  },
  {
   "cell_type": "code",
   "execution_count": null,
   "metadata": {},
   "outputs": [],
   "source": [
    "with open(\"symbols.txt\", \"r\", encoding='utf-8') as sym:\n",
    "    tickers = sym.readlines()\n",
    "    tickers = [word.strip() for word in tickers]"
   ]
  },
  {
   "cell_type": "code",
   "execution_count": null,
   "metadata": {},
   "outputs": [],
   "source": [
    "# tagged_dict = a.tagging(tickers)"
   ]
  },
  {
   "cell_type": "code",
   "execution_count": null,
   "metadata": {},
   "outputs": [],
   "source": [
    "# tagged_dict[\"NVDA\"]"
   ]
  },
  {
   "cell_type": "code",
   "execution_count": null,
   "metadata": {},
   "outputs": [],
   "source": [
    "import pickle\n",
    "t = pickle.load(open('tag_ticker.bin','rb'))"
   ]
  },
  {
   "cell_type": "code",
   "execution_count": null,
   "metadata": {},
   "outputs": [],
   "source": [
    "# tag = a.tagging_cluster(t)"
   ]
  },
  {
   "cell_type": "code",
   "execution_count": null,
   "metadata": {},
   "outputs": [],
   "source": [
    "tag[963]"
   ]
  },
  {
   "cell_type": "code",
   "execution_count": null,
   "metadata": {},
   "outputs": [],
   "source": [
    "from ThemeSeacher import Tagging\n",
    "tt = Tagging()"
   ]
  },
  {
   "cell_type": "code",
   "execution_count": null,
   "metadata": {},
   "outputs": [],
   "source": [
    "out = tt.ticker2cluster(\"MCD\", 30)\n",
    "out"
   ]
  },
  {
   "cell_type": "code",
   "execution_count": null,
   "metadata": {},
   "outputs": [],
   "source": [
    "tt.cluster2keyword(out)"
   ]
  },
  {
   "cell_type": "code",
   "execution_count": null,
   "metadata": {},
   "outputs": [],
   "source": []
  }
 ],
 "metadata": {
  "kernelspec": {
   "display_name": "Python 3",
   "language": "python",
   "name": "python3"
  },
  "language_info": {
   "codemirror_mode": {
    "name": "ipython",
    "version": 3
   },
   "file_extension": ".py",
   "mimetype": "text/x-python",
   "name": "python",
   "nbconvert_exporter": "python",
   "pygments_lexer": "ipython3",
   "version": "3.6.5"
  }
 },
 "nbformat": 4,
 "nbformat_minor": 2
}
